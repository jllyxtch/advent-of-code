{
 "cells": [
  {
   "cell_type": "code",
   "execution_count": 29,
   "metadata": {},
   "outputs": [],
   "source": [
    "lines = [line.rstrip('\\n') for line in open('input/input_5.txt')]\n",
    "stack = lines[:lines.index('')]\n",
    "instructions = lines[lines.index('')+1:]\n",
    "new_stack = []\n",
    "\n",
    "for i, row in enumerate(stack):\n",
    "    new_row = []\n",
    "    for j in range(9):\n",
    "        new_row.append(row[j*4+1])\n",
    "    new_stack.append(new_row)\n",
    "\n",
    "rotated_stack = [[] for _ in range(10)]\n",
    "for i in range(1,len(new_stack)):\n",
    "    for j, box in enumerate(new_stack[-i-1]):\n",
    "        if not box == ' ':\n",
    "            rotated_stack[j+1].append(box)\n",
    "\n",
    "new_instructions = []\n",
    "for instruction in instructions:\n",
    "    new_instruction = instruction.split(' ')\n",
    "    new_instructions.append([int(new_instruction[1]), int(new_instruction[3]), int(new_instruction[5])])\n",
    "\n",
    "rotated_stack_1 = rotated_stack\n",
    "for instruction in new_instructions:\n",
    "    for i in range(instruction[0]):\n",
    "        rotated_stack_1[instruction[2]].append(rotated_stack_1[instruction[1]].pop(-1))\n",
    "\n",
    "rotated_stack_2 = rotated_stack\n",
    "for instruction in new_instructions:\n",
    "    move = instruction[0]\n",
    "    rotated_stack_2[instruction[2]].extend(rotated_stack_2[instruction[1]][-move:])\n",
    "    del rotated_stack_2[instruction[1]][instruction[0]*-1:]\n",
    "    \n",
    "top = ''\n",
    "for row in rotated_stack_2:\n",
    "    if row:\n",
    "        top = top + row[-1]"
   ]
  },
  {
   "cell_type": "code",
   "execution_count": 45,
   "metadata": {},
   "outputs": [
    {
     "data": {
      "text/plain": [
       "'LVZPSTTCZ'"
      ]
     },
     "execution_count": 45,
     "metadata": {},
     "output_type": "execute_result"
    }
   ],
   "source": [
    "top"
   ]
  }
 ],
 "metadata": {
  "kernelspec": {
   "display_name": "Python 3.10.8 ('venv': venv)",
   "language": "python",
   "name": "python3"
  },
  "language_info": {
   "codemirror_mode": {
    "name": "ipython",
    "version": 3
   },
   "file_extension": ".py",
   "mimetype": "text/x-python",
   "name": "python",
   "nbconvert_exporter": "python",
   "pygments_lexer": "ipython3",
   "version": "3.10.8"
  },
  "orig_nbformat": 4,
  "vscode": {
   "interpreter": {
    "hash": "46e7c1553c99011088c46be6ee6f37b88b065b3cfd835564163034de7f7a7065"
   }
  }
 },
 "nbformat": 4,
 "nbformat_minor": 2
}
