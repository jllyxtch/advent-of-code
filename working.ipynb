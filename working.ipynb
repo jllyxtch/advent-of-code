{
 "cells": [
  {
   "cell_type": "code",
   "execution_count": 47,
   "metadata": {},
   "outputs": [],
   "source": [
    "with open('input/input_6.txt', 'r') as f:\n",
    "    buffer = f.read()"
   ]
  },
  {
   "cell_type": "code",
   "execution_count": 64,
   "metadata": {},
   "outputs": [
    {
     "name": "stdout",
     "output_type": "stream",
     "text": [
      "2334\n"
     ]
    }
   ],
   "source": [
    "n = 14  # Length of marker\n",
    "for i, character in enumerate(buffer):\n",
    "    if i >= n:\n",
    "        unique_letters = set(buffer[i-n:i])\n",
    "        if len(unique_letters) == n:\n",
    "            print(i)"
   ]
  },
  {
   "cell_type": "code",
   "execution_count": null,
   "metadata": {},
   "outputs": [],
   "source": []
  }
 ],
 "metadata": {
  "kernelspec": {
   "display_name": "Python 3.10.8 ('venv': venv)",
   "language": "python",
   "name": "python3"
  },
  "language_info": {
   "codemirror_mode": {
    "name": "ipython",
    "version": 3
   },
   "file_extension": ".py",
   "mimetype": "text/x-python",
   "name": "python",
   "nbconvert_exporter": "python",
   "pygments_lexer": "ipython3",
   "version": "3.10.8"
  },
  "orig_nbformat": 4,
  "vscode": {
   "interpreter": {
    "hash": "46e7c1553c99011088c46be6ee6f37b88b065b3cfd835564163034de7f7a7065"
   }
  }
 },
 "nbformat": 4,
 "nbformat_minor": 2
}
