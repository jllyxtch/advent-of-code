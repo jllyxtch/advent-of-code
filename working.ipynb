{
 "cells": [
  {
   "cell_type": "code",
   "execution_count": 44,
   "metadata": {},
   "outputs": [
    {
     "name": "stdout",
     "output_type": "stream",
     "text": [
      "7821\n"
     ]
    }
   ],
   "source": [
    "with open('input/input_3.txt', 'r') as f:\n",
    "    priority_sum = 0\n",
    "\n",
    "    for line in f:\n",
    "        half = int(len(line.strip())/2)\n",
    "        first_compartment = set(line.strip()[:half])\n",
    "        second_compartment = set(line.strip()[half:])\n",
    "\n",
    "        doubled_item = list(first_compartment.intersection(second_compartment))[0]\n",
    "        priority = ord(doubled_item) - 38 if doubled_item.isupper() else ord(doubled_item) - 96\n",
    "        priority_sum += priority\n",
    "        \n",
    "print(priority_sum)\n",
    "with open('input/input_3.txt', 'r') as f:\n",
    "    priority_sum = 0 \n",
    "    lines = f.readlines()\n",
    "    groups = [lines[i * 3:(i + 1) * 3] for i in range((len(lines) + 2) // 3)]\n",
    "\n",
    "    for group in groups:\n",
    "        group_sets = [set(member) for member in group]\n",
    "        badge = list(group_sets[0].intersection(group_sets[1]).intersection(group_sets[2]))\n",
    "        if '\\n' in badge:\n",
    "            badge.remove('\\n')\n",
    "        priority = ord(badge[0]) - 38 if badge[0].isupper() else ord(badge[0]) - 96\n",
    "        priority_sum += priority\n",
    "\n",
    "print(priority_sum)"
   ]
  },
  {
   "cell_type": "code",
   "execution_count": null,
   "metadata": {},
   "outputs": [],
   "source": []
  }
 ],
 "metadata": {
  "kernelspec": {
   "display_name": "Python 3.10.8 ('venv': venv)",
   "language": "python",
   "name": "python3"
  },
  "language_info": {
   "codemirror_mode": {
    "name": "ipython",
    "version": 3
   },
   "file_extension": ".py",
   "mimetype": "text/x-python",
   "name": "python",
   "nbconvert_exporter": "python",
   "pygments_lexer": "ipython3",
   "version": "3.10.8"
  },
  "orig_nbformat": 4,
  "vscode": {
   "interpreter": {
    "hash": "46e7c1553c99011088c46be6ee6f37b88b065b3cfd835564163034de7f7a7065"
   }
  }
 },
 "nbformat": 4,
 "nbformat_minor": 2
}
