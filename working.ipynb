{
 "cells": [
  {
   "cell_type": "code",
   "execution_count": 42,
   "metadata": {},
   "outputs": [
    {
     "name": "stdout",
     "output_type": "stream",
     "text": [
      "657\n",
      "938\n"
     ]
    }
   ],
   "source": [
    "with open('input/input_4.txt', 'r') as f:\n",
    "    full_overlaps = 0\n",
    "    partial_overlaps = 0\n",
    "\n",
    "    for line in f:\n",
    "        assignment = [x.strip().split('-') for x in line.split(',')]\n",
    "        assignment_expanded = [set(range(int(a),int(b)+1)) for [a,b] in assignment]\n",
    "\n",
    "        # Part 1\n",
    "        if assignment_expanded[0].issubset(assignment_expanded[1]) or assignment_expanded[1].issubset(assignment_expanded[0]):\n",
    "            full_overlaps += 1\n",
    "        \n",
    "        # Part 2\n",
    "        if assignment_expanded[0].intersection(assignment_expanded[1]):\n",
    "            partial_overlaps += 1\n",
    "\n",
    "print(full_overlaps)\n",
    "print(partial_overlaps)"
   ]
  },
  {
   "cell_type": "code",
   "execution_count": null,
   "metadata": {},
   "outputs": [],
   "source": []
  }
 ],
 "metadata": {
  "kernelspec": {
   "display_name": "Python 3.10.8 ('venv': venv)",
   "language": "python",
   "name": "python3"
  },
  "language_info": {
   "codemirror_mode": {
    "name": "ipython",
    "version": 3
   },
   "file_extension": ".py",
   "mimetype": "text/x-python",
   "name": "python",
   "nbconvert_exporter": "python",
   "pygments_lexer": "ipython3",
   "version": "3.10.8"
  },
  "orig_nbformat": 4,
  "vscode": {
   "interpreter": {
    "hash": "46e7c1553c99011088c46be6ee6f37b88b065b3cfd835564163034de7f7a7065"
   }
  }
 },
 "nbformat": 4,
 "nbformat_minor": 2
}
