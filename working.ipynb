{
 "cells": [
  {
   "cell_type": "code",
   "execution_count": null,
   "metadata": {},
   "outputs": [],
   "source": [
    "opponent = {'A': 'rock', 'B': 'paper', 'C': 'scissors'}\n",
    "me = {'X': 'rock', 'Y': 'paper', 'Z': 'scissors'}"
   ]
  },
  {
   "cell_type": "code",
   "execution_count": 9,
   "metadata": {},
   "outputs": [
    {
     "name": "stdout",
     "output_type": "stream",
     "text": [
      "10816\n"
     ]
    }
   ],
   "source": [
    "with open('input_2.txt', 'r') as f:\n",
    "    score = 0\n",
    "    for line in f:\n",
    "        opponent_val, me_val = line.strip().split(' ')\n",
    "        # print(opponent_val, me_val)\n",
    "        if (opponent_val, me_val) in [('A', 'X'), ('B', 'Y'), ('C', 'Z')]:\n",
    "            score += 3\n",
    "        if (opponent_val, me_val) in [('A', 'Y'),('B', 'Z'),('C', 'X')]:\n",
    "            score += 6\n",
    "        if me_val == 'X':\n",
    "            score += 1\n",
    "        if me_val == 'Y':\n",
    "            score += 2\n",
    "        if me_val == 'Z':\n",
    "            score += 3\n",
    "print(score)"
   ]
  },
  {
   "cell_type": "code",
   "execution_count": null,
   "metadata": {},
   "outputs": [],
   "source": []
  }
 ],
 "metadata": {
  "kernelspec": {
   "display_name": "Python 3.10.8 ('venv': venv)",
   "language": "python",
   "name": "python3"
  },
  "language_info": {
   "codemirror_mode": {
    "name": "ipython",
    "version": 3
   },
   "file_extension": ".py",
   "mimetype": "text/x-python",
   "name": "python",
   "nbconvert_exporter": "python",
   "pygments_lexer": "ipython3",
   "version": "3.10.8"
  },
  "orig_nbformat": 4,
  "vscode": {
   "interpreter": {
    "hash": "46e7c1553c99011088c46be6ee6f37b88b065b3cfd835564163034de7f7a7065"
   }
  }
 },
 "nbformat": 4,
 "nbformat_minor": 2
}
